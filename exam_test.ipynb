{
 "cells": [
  {
   "cell_type": "code",
   "execution_count": 6,
   "metadata": {},
   "outputs": [],
   "source": [
    "from selenium import webdriver\n",
    "import requests\n",
    "from bs4 import BeautifulSoup\n",
    "\n",
    "import os\n",
    "# print(os.getcwd())\n",
    "# webdriver 내의 객체 확인 하기\n",
    "driver = webdriver.Chrome('chromedriver.exe')\n",
    "url = \"https://news.daum.net/politics\"\n",
    "driver.get(url)"
   ]
  },
  {
   "cell_type": "code",
   "execution_count": 7,
   "metadata": {},
   "outputs": [],
   "source": [
    "import pprint\n",
    "#driver.find_element_by_css_selector(\"#cSub > div > div.section_cate.section_headline\")\n",
    "soup = BeautifulSoup(driver.page_source, 'html.parser')\n",
    "news_list=[]\n",
    "for w in soup.select('.tit_thumb a'):\n",
    "    news_list.append(w['href'])"
   ]
  },
  {
   "cell_type": "code",
   "execution_count": null,
   "metadata": {},
   "outputs": [],
   "source": [
    "import re\n",
    "# 신문사 박준호 email-주소 기사 Title\n",
    "# 중앙일보 박준호\n",
    "\n",
    "# publiser_list = [(\"중앙일보\", \"박준호\", email), (\"중앙일보\", \"박준호\", email)]\n",
    "# new = [p for p in publisher_list if p[0] == '중앙일보']\n",
    "# new = [p for p in publisher_list if p[0] == '중앙일보' and p[1] == '박준호']\n",
    "publiser_list = []\n",
    "for w in news_list:\n",
    "    templist = []\n",
    "    news_res = requests.get(w)\n",
    "    soup = BeautifulSoup(news_res.content, 'html.parser')\n",
    "    reporter_name = (soup.select(\".txt_info\")[0].get_text(','))\n",
    "    \n",
    "    p = soup.select(\".article_view\")[0].get_text()\n",
    "    emailReg = re.compile(r'([a-zA-Z0-9._%+-]+@[a-zA-Z0-9.-]+\\.[a-zA-Z]{2,4})')\n",
    "    reporter_name = soup.select(\".txt_info\")[0].get_text().split()\n",
    "    emailaddress = emailReg.findall(p)\n",
    "    if len(emailaddress) < 1:\n",
    "        emailaddress = None\n",
    "    else:\n",
    "        emailaddress = emailaddress[-1]\n",
    "    title = soup.select(\".link_txt\")[0].get_text()\n",
    "    publiser_sentence = soup.select(\".tit_cp\")[0].get_text()\n",
    "    newspubliser = publiser_sentence.split()\n",
    "    templist.append(newspubliser[0])\n",
    "    templist.append(emailaddress)\n",
    "    templist.append(reporter_name[0])\n",
    "    templist.append(title)\n",
    "    publiser_list.append(templist)\n",
    "print(publiser_list)"
   ]
  },
  {
   "cell_type": "code",
   "execution_count": 226,
   "metadata": {},
   "outputs": [],
   "source": [
    "driver = webdriver.Chrome('chromedriver.exe')\n"
   ]
  },
  {
   "cell_type": "code",
   "execution_count": 233,
   "metadata": {},
   "outputs": [
    {
     "name": "stdout",
     "output_type": "stream",
     "text": [
      "文대통령, 재난지원금 '국민편의·신속성' 강조..靑 \"내달 13일부...\n",
      "http://v.media.daum.net/v/20200424160117091?f=o\n",
      "靑, '대통령 응원·탄핵' 등 청원에 \"국민 다양한 뜻, 겸허히 수용\"\n",
      "http://v.media.daum.net/v/20200424150428774?f=o\n",
      "유송화 前 청와대 2부속비서관, 1년새 예금 8.3억↑..배우자 비상...\n",
      "http://v.media.daum.net/v/20200424002828830?f=o\n",
      "프랑스 영부인 \"韓코로나19 극복, 여성 활동 인상적\"..강경화·정...\n",
      "http://v.media.daum.net/v/20200423113908798?f=o\n"
     ]
    }
   ],
   "source": [
    "# ## 최근 기사 보기\n",
    "# driver = webdriver.Chrome('chromedriver.exe')\n",
    "# url = \"https://news.daum.net/politics\"\n",
    "driver.get('http://daum.co.kr/')\n",
    "driver.find_element_by_css_selector(\"#q\").clear()\n",
    "driver.find_element_by_css_selector(\"#q\").send_keys(\"아시아경제 손선희\")\n",
    "driver.find_element_by_css_selector(\"#daumSearch > fieldset > div > div > button.ico_pctop.btn_search\").click()\n",
    "soup = BeautifulSoup(driver.page_source, 'html.parser')\n",
    "# print(soup.select(\".coll_cont .wrap_tit\"))\n",
    "for w in soup.select(\"#newsColl .coll_cont .wrap_tit .f_link_b\"):\n",
    "    print(w.getText())\n",
    "    print(w['href'])\n",
    "    "
   ]
  },
  {
   "cell_type": "code",
   "execution_count": null,
   "metadata": {},
   "outputs": [],
   "source": [
    "dir(driver)"
   ]
  },
  {
   "cell_type": "code",
   "execution_count": 237,
   "metadata": {},
   "outputs": [
    {
     "name": "stdout",
     "output_type": "stream",
     "text": [
      "['김현 기자', '최은지 기자']\n"
     ]
    }
   ],
   "source": [
    "b='김현 기자,최은지 기자'\n",
    "print(b.split(','))"
   ]
  },
  {
   "cell_type": "code",
   "execution_count": null,
   "metadata": {},
   "outputs": [],
   "source": []
  }
 ],
 "metadata": {
  "kernelspec": {
   "display_name": "Python 3",
   "language": "python",
   "name": "python3"
  },
  "language_info": {
   "codemirror_mode": {
    "name": "ipython",
    "version": 3
   },
   "file_extension": ".py",
   "mimetype": "text/x-python",
   "name": "python",
   "nbconvert_exporter": "python",
   "pygments_lexer": "ipython3",
   "version": "3.7.6"
  }
 },
 "nbformat": 4,
 "nbformat_minor": 4
}
